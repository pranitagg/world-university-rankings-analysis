{
 "cells": [
  {
   "cell_type": "markdown",
   "id": "d3b69a76",
   "metadata": {
    "papermill": {
     "duration": 0.014577,
     "end_time": "2023-07-11T16:00:50.907703",
     "exception": false,
     "start_time": "2023-07-11T16:00:50.893126",
     "status": "completed"
    },
    "tags": []
   },
   "source": [
    "**Hi there!\n",
    "In this EDA project we will be analyzing and visualizing the rankings of the university depending upon the worldwide factor.\n",
    "As we know that universities play an important role in our life guiding & helping us to choose the carrer paths we desire, which help us in shaping our life in a better way.**"
   ]
  },
  {
   "cell_type": "markdown",
   "id": "ee103038",
   "metadata": {
    "papermill": {
     "duration": 0.012045,
     "end_time": "2023-07-11T16:00:50.932657",
     "exception": false,
     "start_time": "2023-07-11T16:00:50.920612",
     "status": "completed"
    },
    "tags": []
   },
   "source": [
    "**We will be using some important libraries in our project which will help us to analyze and visualize the data in a better way.**"
   ]
  },
  {
   "cell_type": "code",
   "execution_count": 1,
   "id": "18a910e5",
   "metadata": {
    "execution": {
     "iopub.execute_input": "2023-07-11T16:00:50.960087Z",
     "iopub.status.busy": "2023-07-11T16:00:50.959568Z",
     "iopub.status.idle": "2023-07-11T16:00:52.329651Z",
     "shell.execute_reply": "2023-07-11T16:00:52.327889Z"
    },
    "papermill": {
     "duration": 1.388634,
     "end_time": "2023-07-11T16:00:52.334165",
     "exception": false,
     "start_time": "2023-07-11T16:00:50.945531",
     "status": "completed"
    },
    "tags": []
   },
   "outputs": [],
   "source": [
    "import pandas as pd\n",
    "import matplotlib\n",
    "import matplotlib.pyplot as plt\n",
    "import seaborn as sns"
   ]
  },
  {
   "cell_type": "markdown",
   "id": "414559ee",
   "metadata": {
    "papermill": {
     "duration": 0.013761,
     "end_time": "2023-07-11T16:00:52.361159",
     "exception": false,
     "start_time": "2023-07-11T16:00:52.347398",
     "status": "completed"
    },
    "tags": []
   },
   "source": [
    "**Now we will use the university dataset and the read the data in the form of a csv.**"
   ]
  },
  {
   "cell_type": "code",
   "execution_count": 2,
   "id": "72313ceb",
   "metadata": {
    "execution": {
     "iopub.execute_input": "2023-07-11T16:00:52.391229Z",
     "iopub.status.busy": "2023-07-11T16:00:52.390486Z",
     "iopub.status.idle": "2023-07-11T16:00:52.465052Z",
     "shell.execute_reply": "2023-07-11T16:00:52.464038Z"
    },
    "papermill": {
     "duration": 0.092759,
     "end_time": "2023-07-11T16:00:52.468424",
     "exception": false,
     "start_time": "2023-07-11T16:00:52.375665",
     "status": "completed"
    },
    "tags": []
   },
   "outputs": [
    {
     "data": {
      "text/html": [
       "<div>\n",
       "<style scoped>\n",
       "    .dataframe tbody tr th:only-of-type {\n",
       "        vertical-align: middle;\n",
       "    }\n",
       "\n",
       "    .dataframe tbody tr th {\n",
       "        vertical-align: top;\n",
       "    }\n",
       "\n",
       "    .dataframe thead th {\n",
       "        text-align: right;\n",
       "    }\n",
       "</style>\n",
       "<table border=\"1\" class=\"dataframe\">\n",
       "  <thead>\n",
       "    <tr style=\"text-align: right;\">\n",
       "      <th></th>\n",
       "      <th>institution</th>\n",
       "      <th>country</th>\n",
       "      <th>national_rank</th>\n",
       "      <th>quality_of_education</th>\n",
       "      <th>alumni_employment</th>\n",
       "      <th>quality_of_faculty</th>\n",
       "      <th>publications</th>\n",
       "      <th>influence</th>\n",
       "      <th>citations</th>\n",
       "      <th>broad_impact</th>\n",
       "      <th>patents</th>\n",
       "      <th>score</th>\n",
       "      <th>year</th>\n",
       "    </tr>\n",
       "    <tr>\n",
       "      <th>world_rank</th>\n",
       "      <th></th>\n",
       "      <th></th>\n",
       "      <th></th>\n",
       "      <th></th>\n",
       "      <th></th>\n",
       "      <th></th>\n",
       "      <th></th>\n",
       "      <th></th>\n",
       "      <th></th>\n",
       "      <th></th>\n",
       "      <th></th>\n",
       "      <th></th>\n",
       "      <th></th>\n",
       "    </tr>\n",
       "  </thead>\n",
       "  <tbody>\n",
       "    <tr>\n",
       "      <th>1</th>\n",
       "      <td>Harvard University</td>\n",
       "      <td>USA</td>\n",
       "      <td>1</td>\n",
       "      <td>7</td>\n",
       "      <td>9</td>\n",
       "      <td>1</td>\n",
       "      <td>1</td>\n",
       "      <td>1</td>\n",
       "      <td>1</td>\n",
       "      <td>NaN</td>\n",
       "      <td>5</td>\n",
       "      <td>100.00</td>\n",
       "      <td>2012</td>\n",
       "    </tr>\n",
       "    <tr>\n",
       "      <th>2</th>\n",
       "      <td>Massachusetts Institute of Technology</td>\n",
       "      <td>USA</td>\n",
       "      <td>2</td>\n",
       "      <td>9</td>\n",
       "      <td>17</td>\n",
       "      <td>3</td>\n",
       "      <td>12</td>\n",
       "      <td>4</td>\n",
       "      <td>4</td>\n",
       "      <td>NaN</td>\n",
       "      <td>1</td>\n",
       "      <td>91.67</td>\n",
       "      <td>2012</td>\n",
       "    </tr>\n",
       "    <tr>\n",
       "      <th>3</th>\n",
       "      <td>Stanford University</td>\n",
       "      <td>USA</td>\n",
       "      <td>3</td>\n",
       "      <td>17</td>\n",
       "      <td>11</td>\n",
       "      <td>5</td>\n",
       "      <td>4</td>\n",
       "      <td>2</td>\n",
       "      <td>2</td>\n",
       "      <td>NaN</td>\n",
       "      <td>15</td>\n",
       "      <td>89.50</td>\n",
       "      <td>2012</td>\n",
       "    </tr>\n",
       "    <tr>\n",
       "      <th>4</th>\n",
       "      <td>University of Cambridge</td>\n",
       "      <td>United Kingdom</td>\n",
       "      <td>1</td>\n",
       "      <td>10</td>\n",
       "      <td>24</td>\n",
       "      <td>4</td>\n",
       "      <td>16</td>\n",
       "      <td>16</td>\n",
       "      <td>11</td>\n",
       "      <td>NaN</td>\n",
       "      <td>50</td>\n",
       "      <td>86.17</td>\n",
       "      <td>2012</td>\n",
       "    </tr>\n",
       "    <tr>\n",
       "      <th>5</th>\n",
       "      <td>California Institute of Technology</td>\n",
       "      <td>USA</td>\n",
       "      <td>4</td>\n",
       "      <td>2</td>\n",
       "      <td>29</td>\n",
       "      <td>7</td>\n",
       "      <td>37</td>\n",
       "      <td>22</td>\n",
       "      <td>22</td>\n",
       "      <td>NaN</td>\n",
       "      <td>18</td>\n",
       "      <td>85.21</td>\n",
       "      <td>2012</td>\n",
       "    </tr>\n",
       "    <tr>\n",
       "      <th>...</th>\n",
       "      <td>...</td>\n",
       "      <td>...</td>\n",
       "      <td>...</td>\n",
       "      <td>...</td>\n",
       "      <td>...</td>\n",
       "      <td>...</td>\n",
       "      <td>...</td>\n",
       "      <td>...</td>\n",
       "      <td>...</td>\n",
       "      <td>...</td>\n",
       "      <td>...</td>\n",
       "      <td>...</td>\n",
       "      <td>...</td>\n",
       "    </tr>\n",
       "    <tr>\n",
       "      <th>996</th>\n",
       "      <td>University of the Algarve</td>\n",
       "      <td>Portugal</td>\n",
       "      <td>7</td>\n",
       "      <td>367</td>\n",
       "      <td>567</td>\n",
       "      <td>218</td>\n",
       "      <td>926</td>\n",
       "      <td>845</td>\n",
       "      <td>812</td>\n",
       "      <td>969.0</td>\n",
       "      <td>816</td>\n",
       "      <td>44.03</td>\n",
       "      <td>2015</td>\n",
       "    </tr>\n",
       "    <tr>\n",
       "      <th>997</th>\n",
       "      <td>Alexandria University</td>\n",
       "      <td>Egypt</td>\n",
       "      <td>4</td>\n",
       "      <td>236</td>\n",
       "      <td>566</td>\n",
       "      <td>218</td>\n",
       "      <td>997</td>\n",
       "      <td>908</td>\n",
       "      <td>645</td>\n",
       "      <td>981.0</td>\n",
       "      <td>871</td>\n",
       "      <td>44.03</td>\n",
       "      <td>2015</td>\n",
       "    </tr>\n",
       "    <tr>\n",
       "      <th>998</th>\n",
       "      <td>Federal University of Ceará</td>\n",
       "      <td>Brazil</td>\n",
       "      <td>18</td>\n",
       "      <td>367</td>\n",
       "      <td>549</td>\n",
       "      <td>218</td>\n",
       "      <td>830</td>\n",
       "      <td>823</td>\n",
       "      <td>812</td>\n",
       "      <td>975.0</td>\n",
       "      <td>824</td>\n",
       "      <td>44.03</td>\n",
       "      <td>2015</td>\n",
       "    </tr>\n",
       "    <tr>\n",
       "      <th>999</th>\n",
       "      <td>University of A Coruña</td>\n",
       "      <td>Spain</td>\n",
       "      <td>40</td>\n",
       "      <td>367</td>\n",
       "      <td>567</td>\n",
       "      <td>218</td>\n",
       "      <td>886</td>\n",
       "      <td>974</td>\n",
       "      <td>812</td>\n",
       "      <td>975.0</td>\n",
       "      <td>651</td>\n",
       "      <td>44.02</td>\n",
       "      <td>2015</td>\n",
       "    </tr>\n",
       "    <tr>\n",
       "      <th>1000</th>\n",
       "      <td>China Pharmaceutical University</td>\n",
       "      <td>China</td>\n",
       "      <td>83</td>\n",
       "      <td>367</td>\n",
       "      <td>567</td>\n",
       "      <td>218</td>\n",
       "      <td>861</td>\n",
       "      <td>991</td>\n",
       "      <td>812</td>\n",
       "      <td>981.0</td>\n",
       "      <td>547</td>\n",
       "      <td>44.02</td>\n",
       "      <td>2015</td>\n",
       "    </tr>\n",
       "  </tbody>\n",
       "</table>\n",
       "<p>2200 rows × 13 columns</p>\n",
       "</div>"
      ],
      "text/plain": [
       "                                      institution         country  \\\n",
       "world_rank                                                          \n",
       "1                              Harvard University             USA   \n",
       "2           Massachusetts Institute of Technology             USA   \n",
       "3                             Stanford University             USA   \n",
       "4                         University of Cambridge  United Kingdom   \n",
       "5              California Institute of Technology             USA   \n",
       "...                                           ...             ...   \n",
       "996                     University of the Algarve        Portugal   \n",
       "997                         Alexandria University           Egypt   \n",
       "998                   Federal University of Ceará          Brazil   \n",
       "999                        University of A Coruña           Spain   \n",
       "1000              China Pharmaceutical University           China   \n",
       "\n",
       "            national_rank  quality_of_education  alumni_employment  \\\n",
       "world_rank                                                           \n",
       "1                       1                     7                  9   \n",
       "2                       2                     9                 17   \n",
       "3                       3                    17                 11   \n",
       "4                       1                    10                 24   \n",
       "5                       4                     2                 29   \n",
       "...                   ...                   ...                ...   \n",
       "996                     7                   367                567   \n",
       "997                     4                   236                566   \n",
       "998                    18                   367                549   \n",
       "999                    40                   367                567   \n",
       "1000                   83                   367                567   \n",
       "\n",
       "            quality_of_faculty  publications  influence  citations  \\\n",
       "world_rank                                                           \n",
       "1                            1             1          1          1   \n",
       "2                            3            12          4          4   \n",
       "3                            5             4          2          2   \n",
       "4                            4            16         16         11   \n",
       "5                            7            37         22         22   \n",
       "...                        ...           ...        ...        ...   \n",
       "996                        218           926        845        812   \n",
       "997                        218           997        908        645   \n",
       "998                        218           830        823        812   \n",
       "999                        218           886        974        812   \n",
       "1000                       218           861        991        812   \n",
       "\n",
       "            broad_impact  patents   score  year  \n",
       "world_rank                                       \n",
       "1                    NaN        5  100.00  2012  \n",
       "2                    NaN        1   91.67  2012  \n",
       "3                    NaN       15   89.50  2012  \n",
       "4                    NaN       50   86.17  2012  \n",
       "5                    NaN       18   85.21  2012  \n",
       "...                  ...      ...     ...   ...  \n",
       "996                969.0      816   44.03  2015  \n",
       "997                981.0      871   44.03  2015  \n",
       "998                975.0      824   44.03  2015  \n",
       "999                975.0      651   44.02  2015  \n",
       "1000               981.0      547   44.02  2015  \n",
       "\n",
       "[2200 rows x 13 columns]"
      ]
     },
     "execution_count": 2,
     "metadata": {},
     "output_type": "execute_result"
    }
   ],
   "source": [
    "data = pd.read_csv('/kaggle/input/world-university-rankings/cwurData.csv',index_col = 'world_rank')\n",
    "data"
   ]
  },
  {
   "cell_type": "markdown",
   "id": "fa6e85ba",
   "metadata": {
    "papermill": {
     "duration": 0.013682,
     "end_time": "2023-07-11T16:00:52.495467",
     "exception": false,
     "start_time": "2023-07-11T16:00:52.481785",
     "status": "completed"
    },
    "tags": []
   },
   "source": [
    "**Show the all cloumns information**"
   ]
  },
  {
   "cell_type": "code",
   "execution_count": 3,
   "id": "073f1a12",
   "metadata": {
    "execution": {
     "iopub.execute_input": "2023-07-11T16:00:52.525080Z",
     "iopub.status.busy": "2023-07-11T16:00:52.524293Z",
     "iopub.status.idle": "2023-07-11T16:00:52.546762Z",
     "shell.execute_reply": "2023-07-11T16:00:52.544732Z"
    },
    "papermill": {
     "duration": 0.040444,
     "end_time": "2023-07-11T16:00:52.549552",
     "exception": false,
     "start_time": "2023-07-11T16:00:52.509108",
     "status": "completed"
    },
    "tags": []
   },
   "outputs": [
    {
     "name": "stdout",
     "output_type": "stream",
     "text": [
      "<class 'pandas.core.frame.DataFrame'>\n",
      "Int64Index: 2200 entries, 1 to 1000\n",
      "Data columns (total 13 columns):\n",
      " #   Column                Non-Null Count  Dtype  \n",
      "---  ------                --------------  -----  \n",
      " 0   institution           2200 non-null   object \n",
      " 1   country               2200 non-null   object \n",
      " 2   national_rank         2200 non-null   int64  \n",
      " 3   quality_of_education  2200 non-null   int64  \n",
      " 4   alumni_employment     2200 non-null   int64  \n",
      " 5   quality_of_faculty    2200 non-null   int64  \n",
      " 6   publications          2200 non-null   int64  \n",
      " 7   influence             2200 non-null   int64  \n",
      " 8   citations             2200 non-null   int64  \n",
      " 9   broad_impact          2000 non-null   float64\n",
      " 10  patents               2200 non-null   int64  \n",
      " 11  score                 2200 non-null   float64\n",
      " 12  year                  2200 non-null   int64  \n",
      "dtypes: float64(2), int64(9), object(2)\n",
      "memory usage: 240.6+ KB\n"
     ]
    }
   ],
   "source": [
    "data.info()"
   ]
  },
  {
   "cell_type": "code",
   "execution_count": 4,
   "id": "dfb1b3ed",
   "metadata": {
    "execution": {
     "iopub.execute_input": "2023-07-11T16:00:52.582310Z",
     "iopub.status.busy": "2023-07-11T16:00:52.581616Z",
     "iopub.status.idle": "2023-07-11T16:00:52.637796Z",
     "shell.execute_reply": "2023-07-11T16:00:52.636502Z"
    },
    "papermill": {
     "duration": 0.076667,
     "end_time": "2023-07-11T16:00:52.640675",
     "exception": false,
     "start_time": "2023-07-11T16:00:52.564008",
     "status": "completed"
    },
    "tags": []
   },
   "outputs": [
    {
     "data": {
      "text/html": [
       "<div>\n",
       "<style scoped>\n",
       "    .dataframe tbody tr th:only-of-type {\n",
       "        vertical-align: middle;\n",
       "    }\n",
       "\n",
       "    .dataframe tbody tr th {\n",
       "        vertical-align: top;\n",
       "    }\n",
       "\n",
       "    .dataframe thead th {\n",
       "        text-align: right;\n",
       "    }\n",
       "</style>\n",
       "<table border=\"1\" class=\"dataframe\">\n",
       "  <thead>\n",
       "    <tr style=\"text-align: right;\">\n",
       "      <th></th>\n",
       "      <th>national_rank</th>\n",
       "      <th>quality_of_education</th>\n",
       "      <th>alumni_employment</th>\n",
       "      <th>quality_of_faculty</th>\n",
       "      <th>publications</th>\n",
       "      <th>influence</th>\n",
       "      <th>citations</th>\n",
       "      <th>broad_impact</th>\n",
       "      <th>patents</th>\n",
       "      <th>score</th>\n",
       "      <th>year</th>\n",
       "    </tr>\n",
       "  </thead>\n",
       "  <tbody>\n",
       "    <tr>\n",
       "      <th>count</th>\n",
       "      <td>2200.000000</td>\n",
       "      <td>2200.000000</td>\n",
       "      <td>2200.000000</td>\n",
       "      <td>2200.000000</td>\n",
       "      <td>2200.000000</td>\n",
       "      <td>2200.000000</td>\n",
       "      <td>2200.000000</td>\n",
       "      <td>2000.000000</td>\n",
       "      <td>2200.000000</td>\n",
       "      <td>2200.000000</td>\n",
       "      <td>2200.000000</td>\n",
       "    </tr>\n",
       "    <tr>\n",
       "      <th>mean</th>\n",
       "      <td>40.278182</td>\n",
       "      <td>275.100455</td>\n",
       "      <td>357.116818</td>\n",
       "      <td>178.888182</td>\n",
       "      <td>459.908636</td>\n",
       "      <td>459.797727</td>\n",
       "      <td>413.417273</td>\n",
       "      <td>496.699500</td>\n",
       "      <td>433.346364</td>\n",
       "      <td>47.798395</td>\n",
       "      <td>2014.318182</td>\n",
       "    </tr>\n",
       "    <tr>\n",
       "      <th>std</th>\n",
       "      <td>51.740870</td>\n",
       "      <td>121.935100</td>\n",
       "      <td>186.779252</td>\n",
       "      <td>64.050885</td>\n",
       "      <td>303.760352</td>\n",
       "      <td>303.331822</td>\n",
       "      <td>264.366549</td>\n",
       "      <td>286.919755</td>\n",
       "      <td>273.996525</td>\n",
       "      <td>7.760806</td>\n",
       "      <td>0.762130</td>\n",
       "    </tr>\n",
       "    <tr>\n",
       "      <th>min</th>\n",
       "      <td>1.000000</td>\n",
       "      <td>1.000000</td>\n",
       "      <td>1.000000</td>\n",
       "      <td>1.000000</td>\n",
       "      <td>1.000000</td>\n",
       "      <td>1.000000</td>\n",
       "      <td>1.000000</td>\n",
       "      <td>1.000000</td>\n",
       "      <td>1.000000</td>\n",
       "      <td>43.360000</td>\n",
       "      <td>2012.000000</td>\n",
       "    </tr>\n",
       "    <tr>\n",
       "      <th>25%</th>\n",
       "      <td>6.000000</td>\n",
       "      <td>175.750000</td>\n",
       "      <td>175.750000</td>\n",
       "      <td>175.750000</td>\n",
       "      <td>175.750000</td>\n",
       "      <td>175.750000</td>\n",
       "      <td>161.000000</td>\n",
       "      <td>250.500000</td>\n",
       "      <td>170.750000</td>\n",
       "      <td>44.460000</td>\n",
       "      <td>2014.000000</td>\n",
       "    </tr>\n",
       "    <tr>\n",
       "      <th>50%</th>\n",
       "      <td>21.000000</td>\n",
       "      <td>355.000000</td>\n",
       "      <td>450.500000</td>\n",
       "      <td>210.000000</td>\n",
       "      <td>450.500000</td>\n",
       "      <td>450.500000</td>\n",
       "      <td>406.000000</td>\n",
       "      <td>496.000000</td>\n",
       "      <td>426.000000</td>\n",
       "      <td>45.100000</td>\n",
       "      <td>2014.000000</td>\n",
       "    </tr>\n",
       "    <tr>\n",
       "      <th>75%</th>\n",
       "      <td>49.000000</td>\n",
       "      <td>367.000000</td>\n",
       "      <td>478.000000</td>\n",
       "      <td>218.000000</td>\n",
       "      <td>725.000000</td>\n",
       "      <td>725.250000</td>\n",
       "      <td>645.000000</td>\n",
       "      <td>741.000000</td>\n",
       "      <td>714.250000</td>\n",
       "      <td>47.545000</td>\n",
       "      <td>2015.000000</td>\n",
       "    </tr>\n",
       "    <tr>\n",
       "      <th>max</th>\n",
       "      <td>229.000000</td>\n",
       "      <td>367.000000</td>\n",
       "      <td>567.000000</td>\n",
       "      <td>218.000000</td>\n",
       "      <td>1000.000000</td>\n",
       "      <td>991.000000</td>\n",
       "      <td>812.000000</td>\n",
       "      <td>1000.000000</td>\n",
       "      <td>871.000000</td>\n",
       "      <td>100.000000</td>\n",
       "      <td>2015.000000</td>\n",
       "    </tr>\n",
       "  </tbody>\n",
       "</table>\n",
       "</div>"
      ],
      "text/plain": [
       "       national_rank  quality_of_education  alumni_employment  \\\n",
       "count    2200.000000           2200.000000        2200.000000   \n",
       "mean       40.278182            275.100455         357.116818   \n",
       "std        51.740870            121.935100         186.779252   \n",
       "min         1.000000              1.000000           1.000000   \n",
       "25%         6.000000            175.750000         175.750000   \n",
       "50%        21.000000            355.000000         450.500000   \n",
       "75%        49.000000            367.000000         478.000000   \n",
       "max       229.000000            367.000000         567.000000   \n",
       "\n",
       "       quality_of_faculty  publications    influence    citations  \\\n",
       "count         2200.000000   2200.000000  2200.000000  2200.000000   \n",
       "mean           178.888182    459.908636   459.797727   413.417273   \n",
       "std             64.050885    303.760352   303.331822   264.366549   \n",
       "min              1.000000      1.000000     1.000000     1.000000   \n",
       "25%            175.750000    175.750000   175.750000   161.000000   \n",
       "50%            210.000000    450.500000   450.500000   406.000000   \n",
       "75%            218.000000    725.000000   725.250000   645.000000   \n",
       "max            218.000000   1000.000000   991.000000   812.000000   \n",
       "\n",
       "       broad_impact      patents        score         year  \n",
       "count   2000.000000  2200.000000  2200.000000  2200.000000  \n",
       "mean     496.699500   433.346364    47.798395  2014.318182  \n",
       "std      286.919755   273.996525     7.760806     0.762130  \n",
       "min        1.000000     1.000000    43.360000  2012.000000  \n",
       "25%      250.500000   170.750000    44.460000  2014.000000  \n",
       "50%      496.000000   426.000000    45.100000  2014.000000  \n",
       "75%      741.000000   714.250000    47.545000  2015.000000  \n",
       "max     1000.000000   871.000000   100.000000  2015.000000  "
      ]
     },
     "execution_count": 4,
     "metadata": {},
     "output_type": "execute_result"
    }
   ],
   "source": [
    "data.describe()"
   ]
  },
  {
   "cell_type": "markdown",
   "id": "c93c3bf2",
   "metadata": {
    "papermill": {
     "duration": 0.013346,
     "end_time": "2023-07-11T16:00:52.668155",
     "exception": false,
     "start_time": "2023-07-11T16:00:52.654809",
     "status": "completed"
    },
    "tags": []
   },
   "source": [
    "**check the Object datatype columns describe **"
   ]
  },
  {
   "cell_type": "code",
   "execution_count": 5,
   "id": "6bd39abe",
   "metadata": {
    "execution": {
     "iopub.execute_input": "2023-07-11T16:00:52.700161Z",
     "iopub.status.busy": "2023-07-11T16:00:52.699404Z",
     "iopub.status.idle": "2023-07-11T16:00:52.715382Z",
     "shell.execute_reply": "2023-07-11T16:00:52.714324Z"
    },
    "papermill": {
     "duration": 0.035036,
     "end_time": "2023-07-11T16:00:52.718086",
     "exception": false,
     "start_time": "2023-07-11T16:00:52.683050",
     "status": "completed"
    },
    "tags": []
   },
   "outputs": [
    {
     "data": {
      "text/html": [
       "<div>\n",
       "<style scoped>\n",
       "    .dataframe tbody tr th:only-of-type {\n",
       "        vertical-align: middle;\n",
       "    }\n",
       "\n",
       "    .dataframe tbody tr th {\n",
       "        vertical-align: top;\n",
       "    }\n",
       "\n",
       "    .dataframe thead th {\n",
       "        text-align: right;\n",
       "    }\n",
       "</style>\n",
       "<table border=\"1\" class=\"dataframe\">\n",
       "  <thead>\n",
       "    <tr style=\"text-align: right;\">\n",
       "      <th></th>\n",
       "      <th>country</th>\n",
       "    </tr>\n",
       "  </thead>\n",
       "  <tbody>\n",
       "    <tr>\n",
       "      <th>count</th>\n",
       "      <td>2200</td>\n",
       "    </tr>\n",
       "    <tr>\n",
       "      <th>unique</th>\n",
       "      <td>59</td>\n",
       "    </tr>\n",
       "    <tr>\n",
       "      <th>top</th>\n",
       "      <td>USA</td>\n",
       "    </tr>\n",
       "    <tr>\n",
       "      <th>freq</th>\n",
       "      <td>573</td>\n",
       "    </tr>\n",
       "  </tbody>\n",
       "</table>\n",
       "</div>"
      ],
      "text/plain": [
       "       country\n",
       "count     2200\n",
       "unique      59\n",
       "top        USA\n",
       "freq       573"
      ]
     },
     "execution_count": 5,
     "metadata": {},
     "output_type": "execute_result"
    }
   ],
   "source": [
    "data[['country']].describe()"
   ]
  },
  {
   "cell_type": "markdown",
   "id": "a0913c55",
   "metadata": {
    "papermill": {
     "duration": 0.014239,
     "end_time": "2023-07-11T16:00:52.746401",
     "exception": false,
     "start_time": "2023-07-11T16:00:52.732162",
     "status": "completed"
    },
    "tags": []
   },
   "source": [
    "**check the unique value of institution columns**"
   ]
  },
  {
   "cell_type": "code",
   "execution_count": 6,
   "id": "d35c00a0",
   "metadata": {
    "execution": {
     "iopub.execute_input": "2023-07-11T16:00:52.777230Z",
     "iopub.status.busy": "2023-07-11T16:00:52.776771Z",
     "iopub.status.idle": "2023-07-11T16:00:52.786318Z",
     "shell.execute_reply": "2023-07-11T16:00:52.785030Z"
    },
    "papermill": {
     "duration": 0.028803,
     "end_time": "2023-07-11T16:00:52.789622",
     "exception": false,
     "start_time": "2023-07-11T16:00:52.760819",
     "status": "completed"
    },
    "tags": []
   },
   "outputs": [
    {
     "data": {
      "text/plain": [
       "array(['Harvard University', 'Massachusetts Institute of Technology',\n",
       "       'Stanford University', ..., 'Babeș-Bolyai University',\n",
       "       'Henan Normal University', 'Southwest Jiaotong University'],\n",
       "      dtype=object)"
      ]
     },
     "execution_count": 6,
     "metadata": {},
     "output_type": "execute_result"
    }
   ],
   "source": [
    "data['institution'].unique()"
   ]
  },
  {
   "cell_type": "markdown",
   "id": "6d3df526",
   "metadata": {
    "papermill": {
     "duration": 0.01384,
     "end_time": "2023-07-11T16:00:52.817784",
     "exception": false,
     "start_time": "2023-07-11T16:00:52.803944",
     "status": "completed"
    },
    "tags": []
   },
   "source": [
    "**value count of country columns**"
   ]
  },
  {
   "cell_type": "code",
   "execution_count": 7,
   "id": "18a5da87",
   "metadata": {
    "execution": {
     "iopub.execute_input": "2023-07-11T16:00:52.849495Z",
     "iopub.status.busy": "2023-07-11T16:00:52.849013Z",
     "iopub.status.idle": "2023-07-11T16:00:52.859768Z",
     "shell.execute_reply": "2023-07-11T16:00:52.858516Z"
    },
    "papermill": {
     "duration": 0.030035,
     "end_time": "2023-07-11T16:00:52.862566",
     "exception": false,
     "start_time": "2023-07-11T16:00:52.832531",
     "status": "completed"
    },
    "tags": []
   },
   "outputs": [
    {
     "data": {
      "text/plain": [
       "USA                     573\n",
       "China                   167\n",
       "Japan                   159\n",
       "United Kingdom          144\n",
       "Germany                 115\n",
       "France                  109\n",
       "Italy                    96\n",
       "Spain                    81\n",
       "Canada                   72\n",
       "South Korea              72\n",
       "Australia                58\n",
       "Taiwan                   46\n",
       "Brazil                   36\n",
       "India                    31\n",
       "Netherlands              29\n",
       "Switzerland              26\n",
       "Sweden                   24\n",
       "Austria                  24\n",
       "Israel                   22\n",
       "Finland                  20\n",
       "Turkey                   20\n",
       "Belgium                  20\n",
       "Poland                   18\n",
       "Iran                     16\n",
       "Ireland                  16\n",
       "Portugal                 14\n",
       "Greece                   14\n",
       "Hong Kong                12\n",
       "Norway                   12\n",
       "New Zealand              12\n",
       "Hungary                  12\n",
       "Denmark                  12\n",
       "South Africa             10\n",
       "Czech Republic           10\n",
       "Russia                    9\n",
       "Saudi Arabia              8\n",
       "Egypt                     8\n",
       "Chile                     8\n",
       "Argentina                 7\n",
       "Thailand                  6\n",
       "Malaysia                  6\n",
       "Singapore                 5\n",
       "Colombia                  4\n",
       "Mexico                    4\n",
       "Slovenia                  4\n",
       "Romania                   3\n",
       "Lebanon                   2\n",
       "Croatia                   2\n",
       "Estonia                   2\n",
       "Slovak Republic           2\n",
       "Iceland                   2\n",
       "Serbia                    2\n",
       "Bulgaria                  2\n",
       "Lithuania                 2\n",
       "Uganda                    2\n",
       "United Arab Emirates      2\n",
       "Uruguay                   2\n",
       "Cyprus                    2\n",
       "Puerto Rico               2\n",
       "Name: country, dtype: int64"
      ]
     },
     "execution_count": 7,
     "metadata": {},
     "output_type": "execute_result"
    }
   ],
   "source": [
    "data['country'].value_counts()"
   ]
  },
  {
   "cell_type": "markdown",
   "id": "4a402f1a",
   "metadata": {
    "papermill": {
     "duration": 0.014708,
     "end_time": "2023-07-11T16:00:52.893040",
     "exception": false,
     "start_time": "2023-07-11T16:00:52.878332",
     "status": "completed"
    },
    "tags": []
   },
   "source": [
    "**replace the row data United kingdom to UK**"
   ]
  },
  {
   "cell_type": "code",
   "execution_count": 8,
   "id": "a9b852d6",
   "metadata": {
    "execution": {
     "iopub.execute_input": "2023-07-11T16:00:52.925422Z",
     "iopub.status.busy": "2023-07-11T16:00:52.924939Z",
     "iopub.status.idle": "2023-07-11T16:00:52.931520Z",
     "shell.execute_reply": "2023-07-11T16:00:52.930394Z"
    },
    "papermill": {
     "duration": 0.026448,
     "end_time": "2023-07-11T16:00:52.934392",
     "exception": false,
     "start_time": "2023-07-11T16:00:52.907944",
     "status": "completed"
    },
    "tags": []
   },
   "outputs": [],
   "source": [
    "data.replace(to_replace=\"institution\",\n",
    "           value=\"Institution\" ,inplace=True)"
   ]
  },
  {
   "cell_type": "code",
   "execution_count": 9,
   "id": "71e395df",
   "metadata": {
    "execution": {
     "iopub.execute_input": "2023-07-11T16:00:52.966956Z",
     "iopub.status.busy": "2023-07-11T16:00:52.966513Z",
     "iopub.status.idle": "2023-07-11T16:00:52.973471Z",
     "shell.execute_reply": "2023-07-11T16:00:52.972132Z"
    },
    "papermill": {
     "duration": 0.027264,
     "end_time": "2023-07-11T16:00:52.976365",
     "exception": false,
     "start_time": "2023-07-11T16:00:52.949101",
     "status": "completed"
    },
    "tags": []
   },
   "outputs": [],
   "source": [
    "data.replace(to_replace=\"United Kingdom\",\n",
    "           value=\"UK\" ,inplace=True)"
   ]
  },
  {
   "cell_type": "code",
   "execution_count": 10,
   "id": "469e7969",
   "metadata": {
    "execution": {
     "iopub.execute_input": "2023-07-11T16:00:53.008337Z",
     "iopub.status.busy": "2023-07-11T16:00:53.007879Z",
     "iopub.status.idle": "2023-07-11T16:00:53.024110Z",
     "shell.execute_reply": "2023-07-11T16:00:53.022177Z"
    },
    "papermill": {
     "duration": 0.035941,
     "end_time": "2023-07-11T16:00:53.026938",
     "exception": false,
     "start_time": "2023-07-11T16:00:52.990997",
     "status": "completed"
    },
    "tags": []
   },
   "outputs": [
    {
     "name": "stdout",
     "output_type": "stream",
     "text": [
      "<class 'pandas.core.frame.DataFrame'>\n",
      "Int64Index: 2200 entries, 1 to 1000\n",
      "Data columns (total 13 columns):\n",
      " #   Column                Non-Null Count  Dtype  \n",
      "---  ------                --------------  -----  \n",
      " 0   institution           2200 non-null   object \n",
      " 1   country               2200 non-null   object \n",
      " 2   national_rank         2200 non-null   int64  \n",
      " 3   quality_of_education  2200 non-null   int64  \n",
      " 4   alumni_employment     2200 non-null   int64  \n",
      " 5   quality_of_faculty    2200 non-null   int64  \n",
      " 6   publications          2200 non-null   int64  \n",
      " 7   influence             2200 non-null   int64  \n",
      " 8   citations             2200 non-null   int64  \n",
      " 9   broad_impact          2000 non-null   float64\n",
      " 10  patents               2200 non-null   int64  \n",
      " 11  score                 2200 non-null   float64\n",
      " 12  year                  2200 non-null   int64  \n",
      "dtypes: float64(2), int64(9), object(2)\n",
      "memory usage: 240.6+ KB\n"
     ]
    }
   ],
   "source": [
    "data.info()"
   ]
  },
  {
   "cell_type": "markdown",
   "id": "bd5b3bad",
   "metadata": {
    "papermill": {
     "duration": 0.014258,
     "end_time": "2023-07-11T16:00:53.055896",
     "exception": false,
     "start_time": "2023-07-11T16:00:53.041638",
     "status": "completed"
    },
    "tags": []
   },
   "source": [
    "**How do we check and fill the null values?.**"
   ]
  },
  {
   "cell_type": "code",
   "execution_count": 11,
   "id": "272733d1",
   "metadata": {
    "execution": {
     "iopub.execute_input": "2023-07-11T16:00:53.088236Z",
     "iopub.status.busy": "2023-07-11T16:00:53.086839Z",
     "iopub.status.idle": "2023-07-11T16:00:53.098085Z",
     "shell.execute_reply": "2023-07-11T16:00:53.096909Z"
    },
    "papermill": {
     "duration": 0.029883,
     "end_time": "2023-07-11T16:00:53.100881",
     "exception": false,
     "start_time": "2023-07-11T16:00:53.070998",
     "status": "completed"
    },
    "tags": []
   },
   "outputs": [
    {
     "data": {
      "text/plain": [
       "institution               0\n",
       "country                   0\n",
       "national_rank             0\n",
       "quality_of_education      0\n",
       "alumni_employment         0\n",
       "quality_of_faculty        0\n",
       "publications              0\n",
       "influence                 0\n",
       "citations                 0\n",
       "broad_impact            200\n",
       "patents                   0\n",
       "score                     0\n",
       "year                      0\n",
       "dtype: int64"
      ]
     },
     "execution_count": 11,
     "metadata": {},
     "output_type": "execute_result"
    }
   ],
   "source": [
    "data.isnull().sum()   #Note as we can see that the broad_impact column has some nan values so we will be filling some nan columns."
   ]
  },
  {
   "cell_type": "code",
   "execution_count": 12,
   "id": "4450a594",
   "metadata": {
    "execution": {
     "iopub.execute_input": "2023-07-11T16:00:53.133036Z",
     "iopub.status.busy": "2023-07-11T16:00:53.132572Z",
     "iopub.status.idle": "2023-07-11T16:00:53.140055Z",
     "shell.execute_reply": "2023-07-11T16:00:53.138799Z"
    },
    "papermill": {
     "duration": 0.027279,
     "end_time": "2023-07-11T16:00:53.142941",
     "exception": false,
     "start_time": "2023-07-11T16:00:53.115662",
     "status": "completed"
    },
    "tags": []
   },
   "outputs": [],
   "source": [
    "data.fillna({'broad_impact':1},inplace = True) #Note filling the nan values, inplace = True helps us to fix the changed data into a permanent one."
   ]
  },
  {
   "cell_type": "markdown",
   "id": "312a199b",
   "metadata": {
    "papermill": {
     "duration": 0.014492,
     "end_time": "2023-07-11T16:00:53.172258",
     "exception": false,
     "start_time": "2023-07-11T16:00:53.157766",
     "status": "completed"
    },
    "tags": []
   },
   "source": [
    "**We want to see the top five universities?**"
   ]
  },
  {
   "cell_type": "code",
   "execution_count": 13,
   "id": "8e37d243",
   "metadata": {
    "execution": {
     "iopub.execute_input": "2023-07-11T16:00:53.203955Z",
     "iopub.status.busy": "2023-07-11T16:00:53.203513Z",
     "iopub.status.idle": "2023-07-11T16:00:53.223613Z",
     "shell.execute_reply": "2023-07-11T16:00:53.222355Z"
    },
    "papermill": {
     "duration": 0.039176,
     "end_time": "2023-07-11T16:00:53.226189",
     "exception": false,
     "start_time": "2023-07-11T16:00:53.187013",
     "status": "completed"
    },
    "tags": []
   },
   "outputs": [
    {
     "data": {
      "text/html": [
       "<div>\n",
       "<style scoped>\n",
       "    .dataframe tbody tr th:only-of-type {\n",
       "        vertical-align: middle;\n",
       "    }\n",
       "\n",
       "    .dataframe tbody tr th {\n",
       "        vertical-align: top;\n",
       "    }\n",
       "\n",
       "    .dataframe thead th {\n",
       "        text-align: right;\n",
       "    }\n",
       "</style>\n",
       "<table border=\"1\" class=\"dataframe\">\n",
       "  <thead>\n",
       "    <tr style=\"text-align: right;\">\n",
       "      <th></th>\n",
       "      <th>institution</th>\n",
       "      <th>country</th>\n",
       "      <th>national_rank</th>\n",
       "      <th>quality_of_education</th>\n",
       "      <th>alumni_employment</th>\n",
       "      <th>quality_of_faculty</th>\n",
       "      <th>publications</th>\n",
       "      <th>influence</th>\n",
       "      <th>citations</th>\n",
       "      <th>broad_impact</th>\n",
       "      <th>patents</th>\n",
       "      <th>score</th>\n",
       "      <th>year</th>\n",
       "    </tr>\n",
       "    <tr>\n",
       "      <th>world_rank</th>\n",
       "      <th></th>\n",
       "      <th></th>\n",
       "      <th></th>\n",
       "      <th></th>\n",
       "      <th></th>\n",
       "      <th></th>\n",
       "      <th></th>\n",
       "      <th></th>\n",
       "      <th></th>\n",
       "      <th></th>\n",
       "      <th></th>\n",
       "      <th></th>\n",
       "      <th></th>\n",
       "    </tr>\n",
       "  </thead>\n",
       "  <tbody>\n",
       "    <tr>\n",
       "      <th>1</th>\n",
       "      <td>Harvard University</td>\n",
       "      <td>USA</td>\n",
       "      <td>1</td>\n",
       "      <td>7</td>\n",
       "      <td>9</td>\n",
       "      <td>1</td>\n",
       "      <td>1</td>\n",
       "      <td>1</td>\n",
       "      <td>1</td>\n",
       "      <td>1.0</td>\n",
       "      <td>5</td>\n",
       "      <td>100.00</td>\n",
       "      <td>2012</td>\n",
       "    </tr>\n",
       "    <tr>\n",
       "      <th>2</th>\n",
       "      <td>Massachusetts Institute of Technology</td>\n",
       "      <td>USA</td>\n",
       "      <td>2</td>\n",
       "      <td>9</td>\n",
       "      <td>17</td>\n",
       "      <td>3</td>\n",
       "      <td>12</td>\n",
       "      <td>4</td>\n",
       "      <td>4</td>\n",
       "      <td>1.0</td>\n",
       "      <td>1</td>\n",
       "      <td>91.67</td>\n",
       "      <td>2012</td>\n",
       "    </tr>\n",
       "    <tr>\n",
       "      <th>3</th>\n",
       "      <td>Stanford University</td>\n",
       "      <td>USA</td>\n",
       "      <td>3</td>\n",
       "      <td>17</td>\n",
       "      <td>11</td>\n",
       "      <td>5</td>\n",
       "      <td>4</td>\n",
       "      <td>2</td>\n",
       "      <td>2</td>\n",
       "      <td>1.0</td>\n",
       "      <td>15</td>\n",
       "      <td>89.50</td>\n",
       "      <td>2012</td>\n",
       "    </tr>\n",
       "    <tr>\n",
       "      <th>4</th>\n",
       "      <td>University of Cambridge</td>\n",
       "      <td>UK</td>\n",
       "      <td>1</td>\n",
       "      <td>10</td>\n",
       "      <td>24</td>\n",
       "      <td>4</td>\n",
       "      <td>16</td>\n",
       "      <td>16</td>\n",
       "      <td>11</td>\n",
       "      <td>1.0</td>\n",
       "      <td>50</td>\n",
       "      <td>86.17</td>\n",
       "      <td>2012</td>\n",
       "    </tr>\n",
       "    <tr>\n",
       "      <th>5</th>\n",
       "      <td>California Institute of Technology</td>\n",
       "      <td>USA</td>\n",
       "      <td>4</td>\n",
       "      <td>2</td>\n",
       "      <td>29</td>\n",
       "      <td>7</td>\n",
       "      <td>37</td>\n",
       "      <td>22</td>\n",
       "      <td>22</td>\n",
       "      <td>1.0</td>\n",
       "      <td>18</td>\n",
       "      <td>85.21</td>\n",
       "      <td>2012</td>\n",
       "    </tr>\n",
       "  </tbody>\n",
       "</table>\n",
       "</div>"
      ],
      "text/plain": [
       "                                      institution country  national_rank  \\\n",
       "world_rank                                                                 \n",
       "1                              Harvard University     USA              1   \n",
       "2           Massachusetts Institute of Technology     USA              2   \n",
       "3                             Stanford University     USA              3   \n",
       "4                         University of Cambridge      UK              1   \n",
       "5              California Institute of Technology     USA              4   \n",
       "\n",
       "            quality_of_education  alumni_employment  quality_of_faculty  \\\n",
       "world_rank                                                                \n",
       "1                              7                  9                   1   \n",
       "2                              9                 17                   3   \n",
       "3                             17                 11                   5   \n",
       "4                             10                 24                   4   \n",
       "5                              2                 29                   7   \n",
       "\n",
       "            publications  influence  citations  broad_impact  patents   score  \\\n",
       "world_rank                                                                      \n",
       "1                      1          1          1           1.0        5  100.00   \n",
       "2                     12          4          4           1.0        1   91.67   \n",
       "3                      4          2          2           1.0       15   89.50   \n",
       "4                     16         16         11           1.0       50   86.17   \n",
       "5                     37         22         22           1.0       18   85.21   \n",
       "\n",
       "            year  \n",
       "world_rank        \n",
       "1           2012  \n",
       "2           2012  \n",
       "3           2012  \n",
       "4           2012  \n",
       "5           2012  "
      ]
     },
     "execution_count": 13,
     "metadata": {},
     "output_type": "execute_result"
    }
   ],
   "source": [
    "data.head()"
   ]
  },
  {
   "cell_type": "markdown",
   "id": "8ea85d3e",
   "metadata": {
    "papermill": {
     "duration": 0.014849,
     "end_time": "2023-07-11T16:00:53.256450",
     "exception": false,
     "start_time": "2023-07-11T16:00:53.241601",
     "status": "completed"
    },
    "tags": []
   },
   "source": [
    "**We want to see the shape of the data?**"
   ]
  },
  {
   "cell_type": "code",
   "execution_count": 14,
   "id": "805776dc",
   "metadata": {
    "execution": {
     "iopub.execute_input": "2023-07-11T16:00:53.290024Z",
     "iopub.status.busy": "2023-07-11T16:00:53.289404Z",
     "iopub.status.idle": "2023-07-11T16:00:53.299133Z",
     "shell.execute_reply": "2023-07-11T16:00:53.297177Z"
    },
    "papermill": {
     "duration": 0.031176,
     "end_time": "2023-07-11T16:00:53.302570",
     "exception": false,
     "start_time": "2023-07-11T16:00:53.271394",
     "status": "completed"
    },
    "tags": []
   },
   "outputs": [
    {
     "data": {
      "text/plain": [
       "(2200, 13)"
      ]
     },
     "execution_count": 14,
     "metadata": {},
     "output_type": "execute_result"
    }
   ],
   "source": [
    "data.shape    #Note 2200 columns and 13 rows."
   ]
  },
  {
   "cell_type": "markdown",
   "id": "6a05072f",
   "metadata": {
    "papermill": {
     "duration": 0.015073,
     "end_time": "2023-07-11T16:00:53.333624",
     "exception": false,
     "start_time": "2023-07-11T16:00:53.318551",
     "status": "completed"
    },
    "tags": []
   },
   "source": [
    "**We want to see the information of the columns?**"
   ]
  },
  {
   "cell_type": "code",
   "execution_count": 15,
   "id": "ceeb8a1f",
   "metadata": {
    "execution": {
     "iopub.execute_input": "2023-07-11T16:00:53.366777Z",
     "iopub.status.busy": "2023-07-11T16:00:53.366311Z",
     "iopub.status.idle": "2023-07-11T16:00:53.383212Z",
     "shell.execute_reply": "2023-07-11T16:00:53.381401Z"
    },
    "papermill": {
     "duration": 0.037163,
     "end_time": "2023-07-11T16:00:53.386022",
     "exception": false,
     "start_time": "2023-07-11T16:00:53.348859",
     "status": "completed"
    },
    "tags": []
   },
   "outputs": [
    {
     "name": "stdout",
     "output_type": "stream",
     "text": [
      "<class 'pandas.core.frame.DataFrame'>\n",
      "Int64Index: 2200 entries, 1 to 1000\n",
      "Data columns (total 13 columns):\n",
      " #   Column                Non-Null Count  Dtype  \n",
      "---  ------                --------------  -----  \n",
      " 0   institution           2200 non-null   object \n",
      " 1   country               2200 non-null   object \n",
      " 2   national_rank         2200 non-null   int64  \n",
      " 3   quality_of_education  2200 non-null   int64  \n",
      " 4   alumni_employment     2200 non-null   int64  \n",
      " 5   quality_of_faculty    2200 non-null   int64  \n",
      " 6   publications          2200 non-null   int64  \n",
      " 7   influence             2200 non-null   int64  \n",
      " 8   citations             2200 non-null   int64  \n",
      " 9   broad_impact          2200 non-null   float64\n",
      " 10  patents               2200 non-null   int64  \n",
      " 11  score                 2200 non-null   float64\n",
      " 12  year                  2200 non-null   int64  \n",
      "dtypes: float64(2), int64(9), object(2)\n",
      "memory usage: 240.6+ KB\n"
     ]
    }
   ],
   "source": [
    "data.info()     #Note used for better communication with other devs, plus it becomes super necesary to understand the columns as in what columns hold what values."
   ]
  },
  {
   "cell_type": "markdown",
   "id": "1d2a0698",
   "metadata": {
    "papermill": {
     "duration": 0.015018,
     "end_time": "2023-07-11T16:00:53.416312",
     "exception": false,
     "start_time": "2023-07-11T16:00:53.401294",
     "status": "completed"
    },
    "tags": []
   },
   "source": [
    "**We want to see the description of the data**"
   ]
  },
  {
   "cell_type": "code",
   "execution_count": 16,
   "id": "76b37c5a",
   "metadata": {
    "execution": {
     "iopub.execute_input": "2023-07-11T16:00:53.448784Z",
     "iopub.status.busy": "2023-07-11T16:00:53.448292Z",
     "iopub.status.idle": "2023-07-11T16:00:53.502186Z",
     "shell.execute_reply": "2023-07-11T16:00:53.500767Z"
    },
    "papermill": {
     "duration": 0.073572,
     "end_time": "2023-07-11T16:00:53.505227",
     "exception": false,
     "start_time": "2023-07-11T16:00:53.431655",
     "status": "completed"
    },
    "tags": []
   },
   "outputs": [
    {
     "data": {
      "text/html": [
       "<div>\n",
       "<style scoped>\n",
       "    .dataframe tbody tr th:only-of-type {\n",
       "        vertical-align: middle;\n",
       "    }\n",
       "\n",
       "    .dataframe tbody tr th {\n",
       "        vertical-align: top;\n",
       "    }\n",
       "\n",
       "    .dataframe thead th {\n",
       "        text-align: right;\n",
       "    }\n",
       "</style>\n",
       "<table border=\"1\" class=\"dataframe\">\n",
       "  <thead>\n",
       "    <tr style=\"text-align: right;\">\n",
       "      <th></th>\n",
       "      <th>national_rank</th>\n",
       "      <th>quality_of_education</th>\n",
       "      <th>alumni_employment</th>\n",
       "      <th>quality_of_faculty</th>\n",
       "      <th>publications</th>\n",
       "      <th>influence</th>\n",
       "      <th>citations</th>\n",
       "      <th>broad_impact</th>\n",
       "      <th>patents</th>\n",
       "      <th>score</th>\n",
       "      <th>year</th>\n",
       "    </tr>\n",
       "  </thead>\n",
       "  <tbody>\n",
       "    <tr>\n",
       "      <th>count</th>\n",
       "      <td>2200.000000</td>\n",
       "      <td>2200.000000</td>\n",
       "      <td>2200.000000</td>\n",
       "      <td>2200.000000</td>\n",
       "      <td>2200.000000</td>\n",
       "      <td>2200.000000</td>\n",
       "      <td>2200.000000</td>\n",
       "      <td>2200.000000</td>\n",
       "      <td>2200.000000</td>\n",
       "      <td>2200.000000</td>\n",
       "      <td>2200.000000</td>\n",
       "    </tr>\n",
       "    <tr>\n",
       "      <th>mean</th>\n",
       "      <td>40.278182</td>\n",
       "      <td>275.100455</td>\n",
       "      <td>357.116818</td>\n",
       "      <td>178.888182</td>\n",
       "      <td>459.908636</td>\n",
       "      <td>459.797727</td>\n",
       "      <td>413.417273</td>\n",
       "      <td>451.635909</td>\n",
       "      <td>433.346364</td>\n",
       "      <td>47.798395</td>\n",
       "      <td>2014.318182</td>\n",
       "    </tr>\n",
       "    <tr>\n",
       "      <th>std</th>\n",
       "      <td>51.740870</td>\n",
       "      <td>121.935100</td>\n",
       "      <td>186.779252</td>\n",
       "      <td>64.050885</td>\n",
       "      <td>303.760352</td>\n",
       "      <td>303.331822</td>\n",
       "      <td>264.366549</td>\n",
       "      <td>308.467414</td>\n",
       "      <td>273.996525</td>\n",
       "      <td>7.760806</td>\n",
       "      <td>0.762130</td>\n",
       "    </tr>\n",
       "    <tr>\n",
       "      <th>min</th>\n",
       "      <td>1.000000</td>\n",
       "      <td>1.000000</td>\n",
       "      <td>1.000000</td>\n",
       "      <td>1.000000</td>\n",
       "      <td>1.000000</td>\n",
       "      <td>1.000000</td>\n",
       "      <td>1.000000</td>\n",
       "      <td>1.000000</td>\n",
       "      <td>1.000000</td>\n",
       "      <td>43.360000</td>\n",
       "      <td>2012.000000</td>\n",
       "    </tr>\n",
       "    <tr>\n",
       "      <th>25%</th>\n",
       "      <td>6.000000</td>\n",
       "      <td>175.750000</td>\n",
       "      <td>175.750000</td>\n",
       "      <td>175.750000</td>\n",
       "      <td>175.750000</td>\n",
       "      <td>175.750000</td>\n",
       "      <td>161.000000</td>\n",
       "      <td>175.500000</td>\n",
       "      <td>170.750000</td>\n",
       "      <td>44.460000</td>\n",
       "      <td>2014.000000</td>\n",
       "    </tr>\n",
       "    <tr>\n",
       "      <th>50%</th>\n",
       "      <td>21.000000</td>\n",
       "      <td>355.000000</td>\n",
       "      <td>450.500000</td>\n",
       "      <td>210.000000</td>\n",
       "      <td>450.500000</td>\n",
       "      <td>450.500000</td>\n",
       "      <td>406.000000</td>\n",
       "      <td>447.000000</td>\n",
       "      <td>426.000000</td>\n",
       "      <td>45.100000</td>\n",
       "      <td>2014.000000</td>\n",
       "    </tr>\n",
       "    <tr>\n",
       "      <th>75%</th>\n",
       "      <td>49.000000</td>\n",
       "      <td>367.000000</td>\n",
       "      <td>478.000000</td>\n",
       "      <td>218.000000</td>\n",
       "      <td>725.000000</td>\n",
       "      <td>725.250000</td>\n",
       "      <td>645.000000</td>\n",
       "      <td>716.000000</td>\n",
       "      <td>714.250000</td>\n",
       "      <td>47.545000</td>\n",
       "      <td>2015.000000</td>\n",
       "    </tr>\n",
       "    <tr>\n",
       "      <th>max</th>\n",
       "      <td>229.000000</td>\n",
       "      <td>367.000000</td>\n",
       "      <td>567.000000</td>\n",
       "      <td>218.000000</td>\n",
       "      <td>1000.000000</td>\n",
       "      <td>991.000000</td>\n",
       "      <td>812.000000</td>\n",
       "      <td>1000.000000</td>\n",
       "      <td>871.000000</td>\n",
       "      <td>100.000000</td>\n",
       "      <td>2015.000000</td>\n",
       "    </tr>\n",
       "  </tbody>\n",
       "</table>\n",
       "</div>"
      ],
      "text/plain": [
       "       national_rank  quality_of_education  alumni_employment  \\\n",
       "count    2200.000000           2200.000000        2200.000000   \n",
       "mean       40.278182            275.100455         357.116818   \n",
       "std        51.740870            121.935100         186.779252   \n",
       "min         1.000000              1.000000           1.000000   \n",
       "25%         6.000000            175.750000         175.750000   \n",
       "50%        21.000000            355.000000         450.500000   \n",
       "75%        49.000000            367.000000         478.000000   \n",
       "max       229.000000            367.000000         567.000000   \n",
       "\n",
       "       quality_of_faculty  publications    influence    citations  \\\n",
       "count         2200.000000   2200.000000  2200.000000  2200.000000   \n",
       "mean           178.888182    459.908636   459.797727   413.417273   \n",
       "std             64.050885    303.760352   303.331822   264.366549   \n",
       "min              1.000000      1.000000     1.000000     1.000000   \n",
       "25%            175.750000    175.750000   175.750000   161.000000   \n",
       "50%            210.000000    450.500000   450.500000   406.000000   \n",
       "75%            218.000000    725.000000   725.250000   645.000000   \n",
       "max            218.000000   1000.000000   991.000000   812.000000   \n",
       "\n",
       "       broad_impact      patents        score         year  \n",
       "count   2200.000000  2200.000000  2200.000000  2200.000000  \n",
       "mean     451.635909   433.346364    47.798395  2014.318182  \n",
       "std      308.467414   273.996525     7.760806     0.762130  \n",
       "min        1.000000     1.000000    43.360000  2012.000000  \n",
       "25%      175.500000   170.750000    44.460000  2014.000000  \n",
       "50%      447.000000   426.000000    45.100000  2014.000000  \n",
       "75%      716.000000   714.250000    47.545000  2015.000000  \n",
       "max     1000.000000   871.000000   100.000000  2015.000000  "
      ]
     },
     "execution_count": 16,
     "metadata": {},
     "output_type": "execute_result"
    }
   ],
   "source": [
    "data.describe()     #Note all in one."
   ]
  },
  {
   "cell_type": "markdown",
   "id": "ec2703b0",
   "metadata": {
    "papermill": {
     "duration": 0.015662,
     "end_time": "2023-07-11T16:00:53.536810",
     "exception": false,
     "start_time": "2023-07-11T16:00:53.521148",
     "status": "completed"
    },
    "tags": []
   },
   "source": [
    "**Best universities to be enrolled for?**"
   ]
  },
  {
   "cell_type": "code",
   "execution_count": 17,
   "id": "2842f20c",
   "metadata": {
    "execution": {
     "iopub.execute_input": "2023-07-11T16:00:53.570575Z",
     "iopub.status.busy": "2023-07-11T16:00:53.570132Z",
     "iopub.status.idle": "2023-07-11T16:00:53.583002Z",
     "shell.execute_reply": "2023-07-11T16:00:53.581706Z"
    },
    "papermill": {
     "duration": 0.033063,
     "end_time": "2023-07-11T16:00:53.586083",
     "exception": false,
     "start_time": "2023-07-11T16:00:53.553020",
     "status": "completed"
    },
    "tags": []
   },
   "outputs": [
    {
     "data": {
      "text/plain": [
       "Harvard University                          4\n",
       "Karolinska Institute                        4\n",
       "University of Maryland, College Park        4\n",
       "University of British Columbia              4\n",
       "Brown University                            4\n",
       "                                           ..\n",
       "I-Shou University                           1\n",
       "University of Maine (Le Mans)               1\n",
       "National Dong Hwa University                1\n",
       "National Taipei University of Technology    1\n",
       "Southwest Jiaotong University               1\n",
       "Name: institution, Length: 1024, dtype: int64"
      ]
     },
     "execution_count": 17,
     "metadata": {},
     "output_type": "execute_result"
    }
   ],
   "source": [
    "data['institution'].value_counts()"
   ]
  },
  {
   "cell_type": "code",
   "execution_count": 18,
   "id": "005ef222",
   "metadata": {
    "execution": {
     "iopub.execute_input": "2023-07-11T16:00:53.623587Z",
     "iopub.status.busy": "2023-07-11T16:00:53.623123Z",
     "iopub.status.idle": "2023-07-11T16:00:53.641320Z",
     "shell.execute_reply": "2023-07-11T16:00:53.640448Z"
    },
    "papermill": {
     "duration": 0.04001,
     "end_time": "2023-07-11T16:00:53.643691",
     "exception": false,
     "start_time": "2023-07-11T16:00:53.603681",
     "status": "completed"
    },
    "tags": []
   },
   "outputs": [
    {
     "data": {
      "text/html": [
       "<div>\n",
       "<style scoped>\n",
       "    .dataframe tbody tr th:only-of-type {\n",
       "        vertical-align: middle;\n",
       "    }\n",
       "\n",
       "    .dataframe tbody tr th {\n",
       "        vertical-align: top;\n",
       "    }\n",
       "\n",
       "    .dataframe thead th {\n",
       "        text-align: right;\n",
       "    }\n",
       "</style>\n",
       "<table border=\"1\" class=\"dataframe\">\n",
       "  <thead>\n",
       "    <tr style=\"text-align: right;\">\n",
       "      <th></th>\n",
       "      <th>institution</th>\n",
       "      <th>country</th>\n",
       "      <th>national_rank</th>\n",
       "      <th>quality_of_education</th>\n",
       "      <th>alumni_employment</th>\n",
       "      <th>quality_of_faculty</th>\n",
       "      <th>publications</th>\n",
       "      <th>influence</th>\n",
       "      <th>citations</th>\n",
       "      <th>broad_impact</th>\n",
       "      <th>patents</th>\n",
       "      <th>score</th>\n",
       "      <th>year</th>\n",
       "    </tr>\n",
       "    <tr>\n",
       "      <th>world_rank</th>\n",
       "      <th></th>\n",
       "      <th></th>\n",
       "      <th></th>\n",
       "      <th></th>\n",
       "      <th></th>\n",
       "      <th></th>\n",
       "      <th></th>\n",
       "      <th></th>\n",
       "      <th></th>\n",
       "      <th></th>\n",
       "      <th></th>\n",
       "      <th></th>\n",
       "      <th></th>\n",
       "    </tr>\n",
       "  </thead>\n",
       "  <tbody>\n",
       "    <tr>\n",
       "      <th>1</th>\n",
       "      <td>Harvard University</td>\n",
       "      <td>USA</td>\n",
       "      <td>1</td>\n",
       "      <td>7</td>\n",
       "      <td>9</td>\n",
       "      <td>1</td>\n",
       "      <td>1</td>\n",
       "      <td>1</td>\n",
       "      <td>1</td>\n",
       "      <td>1.0</td>\n",
       "      <td>5</td>\n",
       "      <td>100.00</td>\n",
       "      <td>2012</td>\n",
       "    </tr>\n",
       "    <tr>\n",
       "      <th>2</th>\n",
       "      <td>Massachusetts Institute of Technology</td>\n",
       "      <td>USA</td>\n",
       "      <td>2</td>\n",
       "      <td>9</td>\n",
       "      <td>17</td>\n",
       "      <td>3</td>\n",
       "      <td>12</td>\n",
       "      <td>4</td>\n",
       "      <td>4</td>\n",
       "      <td>1.0</td>\n",
       "      <td>1</td>\n",
       "      <td>91.67</td>\n",
       "      <td>2012</td>\n",
       "    </tr>\n",
       "    <tr>\n",
       "      <th>3</th>\n",
       "      <td>Stanford University</td>\n",
       "      <td>USA</td>\n",
       "      <td>3</td>\n",
       "      <td>17</td>\n",
       "      <td>11</td>\n",
       "      <td>5</td>\n",
       "      <td>4</td>\n",
       "      <td>2</td>\n",
       "      <td>2</td>\n",
       "      <td>1.0</td>\n",
       "      <td>15</td>\n",
       "      <td>89.50</td>\n",
       "      <td>2012</td>\n",
       "    </tr>\n",
       "    <tr>\n",
       "      <th>4</th>\n",
       "      <td>University of Cambridge</td>\n",
       "      <td>UK</td>\n",
       "      <td>1</td>\n",
       "      <td>10</td>\n",
       "      <td>24</td>\n",
       "      <td>4</td>\n",
       "      <td>16</td>\n",
       "      <td>16</td>\n",
       "      <td>11</td>\n",
       "      <td>1.0</td>\n",
       "      <td>50</td>\n",
       "      <td>86.17</td>\n",
       "      <td>2012</td>\n",
       "    </tr>\n",
       "    <tr>\n",
       "      <th>5</th>\n",
       "      <td>California Institute of Technology</td>\n",
       "      <td>USA</td>\n",
       "      <td>4</td>\n",
       "      <td>2</td>\n",
       "      <td>29</td>\n",
       "      <td>7</td>\n",
       "      <td>37</td>\n",
       "      <td>22</td>\n",
       "      <td>22</td>\n",
       "      <td>1.0</td>\n",
       "      <td>18</td>\n",
       "      <td>85.21</td>\n",
       "      <td>2012</td>\n",
       "    </tr>\n",
       "  </tbody>\n",
       "</table>\n",
       "</div>"
      ],
      "text/plain": [
       "                                      institution country  national_rank  \\\n",
       "world_rank                                                                 \n",
       "1                              Harvard University     USA              1   \n",
       "2           Massachusetts Institute of Technology     USA              2   \n",
       "3                             Stanford University     USA              3   \n",
       "4                         University of Cambridge      UK              1   \n",
       "5              California Institute of Technology     USA              4   \n",
       "\n",
       "            quality_of_education  alumni_employment  quality_of_faculty  \\\n",
       "world_rank                                                                \n",
       "1                              7                  9                   1   \n",
       "2                              9                 17                   3   \n",
       "3                             17                 11                   5   \n",
       "4                             10                 24                   4   \n",
       "5                              2                 29                   7   \n",
       "\n",
       "            publications  influence  citations  broad_impact  patents   score  \\\n",
       "world_rank                                                                      \n",
       "1                      1          1          1           1.0        5  100.00   \n",
       "2                     12          4          4           1.0        1   91.67   \n",
       "3                      4          2          2           1.0       15   89.50   \n",
       "4                     16         16         11           1.0       50   86.17   \n",
       "5                     37         22         22           1.0       18   85.21   \n",
       "\n",
       "            year  \n",
       "world_rank        \n",
       "1           2012  \n",
       "2           2012  \n",
       "3           2012  \n",
       "4           2012  \n",
       "5           2012  "
      ]
     },
     "execution_count": 18,
     "metadata": {},
     "output_type": "execute_result"
    }
   ],
   "source": [
    "data.head()"
   ]
  },
  {
   "cell_type": "markdown",
   "id": "1432ef96",
   "metadata": {
    "papermill": {
     "duration": 0.015803,
     "end_time": "2023-07-11T16:00:53.675715",
     "exception": false,
     "start_time": "2023-07-11T16:00:53.659912",
     "status": "completed"
    },
    "tags": []
   },
   "source": [
    "**We want to see the top universities by country?**"
   ]
  },
  {
   "cell_type": "code",
   "execution_count": 19,
   "id": "e02dafc1",
   "metadata": {
    "execution": {
     "iopub.execute_input": "2023-07-11T16:00:53.710161Z",
     "iopub.status.busy": "2023-07-11T16:00:53.709759Z",
     "iopub.status.idle": "2023-07-11T16:00:53.716242Z",
     "shell.execute_reply": "2023-07-11T16:00:53.714946Z"
    },
    "papermill": {
     "duration": 0.026987,
     "end_time": "2023-07-11T16:00:53.718995",
     "exception": false,
     "start_time": "2023-07-11T16:00:53.692008",
     "status": "completed"
    },
    "tags": []
   },
   "outputs": [
    {
     "name": "stdout",
     "output_type": "stream",
     "text": [
      "['Solarize_Light2', '_classic_test_patch', '_mpl-gallery', '_mpl-gallery-nogrid', 'bmh', 'classic', 'dark_background', 'fast', 'fivethirtyeight', 'ggplot', 'grayscale', 'seaborn', 'seaborn-bright', 'seaborn-colorblind', 'seaborn-dark', 'seaborn-dark-palette', 'seaborn-darkgrid', 'seaborn-deep', 'seaborn-muted', 'seaborn-notebook', 'seaborn-paper', 'seaborn-pastel', 'seaborn-poster', 'seaborn-talk', 'seaborn-ticks', 'seaborn-white', 'seaborn-whitegrid', 'tableau-colorblind10']\n"
     ]
    }
   ],
   "source": [
    "print(plt.style.available)    #Note availabe styles for visualization."
   ]
  },
  {
   "cell_type": "code",
   "execution_count": 20,
   "id": "b0041206",
   "metadata": {
    "execution": {
     "iopub.execute_input": "2023-07-11T16:00:53.753349Z",
     "iopub.status.busy": "2023-07-11T16:00:53.752921Z",
     "iopub.status.idle": "2023-07-11T16:00:54.925170Z",
     "shell.execute_reply": "2023-07-11T16:00:54.923437Z"
    },
    "papermill": {
     "duration": 1.192789,
     "end_time": "2023-07-11T16:00:54.928012",
     "exception": false,
     "start_time": "2023-07-11T16:00:53.735223",
     "status": "completed"
    },
    "tags": []
   },
   "outputs": [
    {
     "data": {
      "image/png": "[encoded data removed]",
      "text/plain": [
       "<Figure size 1080x720 with 1 Axes>"
      ]
     },
     "metadata": {},
     "output_type": "display_data"
    }
   ],
   "source": [
    "plt.style.use('Solarize_Light2')\n",
    "plt.figure(figsize=(15,10))\n",
    "sns.countplot(data=data,y='country')                            #Note here we are using seaborn as sns which is an in-nuilt library in python that uses mtplotlib underneath to plot graphs.\n",
    "plt.xticks(rotation='vertical')\n",
    "plt.title('Top Universities By Country',fontsize=40)            #Note labelling the data\n",
    "plt.ylabel('Count',fontsize=25)                                 #Note labelling the y-label\n",
    "plt.xlabel('Top Rank Universities Per Country',fontsize=25)     #Note labelling the x-label\n",
    "plt.show()"
   ]
  },
  {
   "cell_type": "markdown",
   "id": "cd7a1b58",
   "metadata": {
    "papermill": {
     "duration": 0.018086,
     "end_time": "2023-07-11T16:00:54.965545",
     "exception": false,
     "start_time": "2023-07-11T16:00:54.947459",
     "status": "completed"
    },
    "tags": []
   },
   "source": [
    "**We want to see the top 20 countries with the top ranked universities?**"
   ]
  },
  {
   "cell_type": "code",
   "execution_count": 21,
   "id": "ddc743c6",
   "metadata": {
    "execution": {
     "iopub.execute_input": "2023-07-11T16:00:55.005996Z",
     "iopub.status.busy": "2023-07-11T16:00:55.004749Z",
     "iopub.status.idle": "2023-07-11T16:00:55.415900Z",
     "shell.execute_reply": "2023-07-11T16:00:55.414392Z"
    },
    "papermill": {
     "duration": 0.435557,
     "end_time": "2023-07-11T16:00:55.419318",
     "exception": false,
     "start_time": "2023-07-11T16:00:54.983761",
     "status": "completed"
    },
    "tags": []
   },
   "outputs": [
    {
     "data": {
      "image/png": "[encoded data removed]",
      "text/plain": [
       "<Figure size 1080x720 with 1 Axes>"
      ]
     },
     "metadata": {},
     "output_type": "display_data"
    }
   ],
   "source": [
    "plt.style.use('_mpl-gallery')\n",
    "plt.figure(figsize=(15,10))\n",
    "plt.title(\"Top 20 countries with the Most Top-Ranked Universities \")     #Note adding titlr to the data.\n",
    "plt.xlabel(\"Number of Top-Ranked Universities per Country\")              #Note labelling of x-axis.\n",
    "data[\"country\"].value_counts().head(20).plot(kind=\"barh\",color=\"g\")      #Note adding color to the horizontal bars.\n",
    "plt.show()"
   ]
  },
  {
   "cell_type": "markdown",
   "id": "bd85f69a",
   "metadata": {
    "papermill": {
     "duration": 0.018755,
     "end_time": "2023-07-11T16:00:55.457242",
     "exception": false,
     "start_time": "2023-07-11T16:00:55.438487",
     "status": "completed"
    },
    "tags": []
   },
   "source": [
    "**Top 20 most top rank universities in the worl?**"
   ]
  },
  {
   "cell_type": "code",
   "execution_count": 22,
   "id": "add96a6d",
   "metadata": {
    "execution": {
     "iopub.execute_input": "2023-07-11T16:00:55.497819Z",
     "iopub.status.busy": "2023-07-11T16:00:55.497366Z",
     "iopub.status.idle": "2023-07-11T16:00:55.527867Z",
     "shell.execute_reply": "2023-07-11T16:00:55.526901Z"
    },
    "papermill": {
     "duration": 0.054589,
     "end_time": "2023-07-11T16:00:55.530546",
     "exception": false,
     "start_time": "2023-07-11T16:00:55.475957",
     "status": "completed"
    },
    "tags": []
   },
   "outputs": [
    {
     "data": {
      "text/html": [
       "<div>\n",
       "<style scoped>\n",
       "    .dataframe tbody tr th:only-of-type {\n",
       "        vertical-align: middle;\n",
       "    }\n",
       "\n",
       "    .dataframe tbody tr th {\n",
       "        vertical-align: top;\n",
       "    }\n",
       "\n",
       "    .dataframe thead th {\n",
       "        text-align: right;\n",
       "    }\n",
       "</style>\n",
       "<table border=\"1\" class=\"dataframe\">\n",
       "  <thead>\n",
       "    <tr style=\"text-align: right;\">\n",
       "      <th></th>\n",
       "      <th>institution</th>\n",
       "      <th>country</th>\n",
       "      <th>national_rank</th>\n",
       "      <th>quality_of_education</th>\n",
       "      <th>alumni_employment</th>\n",
       "      <th>quality_of_faculty</th>\n",
       "      <th>publications</th>\n",
       "      <th>influence</th>\n",
       "      <th>citations</th>\n",
       "      <th>broad_impact</th>\n",
       "      <th>patents</th>\n",
       "      <th>score</th>\n",
       "      <th>year</th>\n",
       "    </tr>\n",
       "    <tr>\n",
       "      <th>world_rank</th>\n",
       "      <th></th>\n",
       "      <th></th>\n",
       "      <th></th>\n",
       "      <th></th>\n",
       "      <th></th>\n",
       "      <th></th>\n",
       "      <th></th>\n",
       "      <th></th>\n",
       "      <th></th>\n",
       "      <th></th>\n",
       "      <th></th>\n",
       "      <th></th>\n",
       "      <th></th>\n",
       "    </tr>\n",
       "  </thead>\n",
       "  <tbody>\n",
       "    <tr>\n",
       "      <th>1</th>\n",
       "      <td>Harvard University</td>\n",
       "      <td>USA</td>\n",
       "      <td>1</td>\n",
       "      <td>7</td>\n",
       "      <td>9</td>\n",
       "      <td>1</td>\n",
       "      <td>1</td>\n",
       "      <td>1</td>\n",
       "      <td>1</td>\n",
       "      <td>1.0</td>\n",
       "      <td>5</td>\n",
       "      <td>100.00</td>\n",
       "      <td>2012</td>\n",
       "    </tr>\n",
       "    <tr>\n",
       "      <th>2</th>\n",
       "      <td>Massachusetts Institute of Technology</td>\n",
       "      <td>USA</td>\n",
       "      <td>2</td>\n",
       "      <td>9</td>\n",
       "      <td>17</td>\n",
       "      <td>3</td>\n",
       "      <td>12</td>\n",
       "      <td>4</td>\n",
       "      <td>4</td>\n",
       "      <td>1.0</td>\n",
       "      <td>1</td>\n",
       "      <td>91.67</td>\n",
       "      <td>2012</td>\n",
       "    </tr>\n",
       "    <tr>\n",
       "      <th>3</th>\n",
       "      <td>Stanford University</td>\n",
       "      <td>USA</td>\n",
       "      <td>3</td>\n",
       "      <td>17</td>\n",
       "      <td>11</td>\n",
       "      <td>5</td>\n",
       "      <td>4</td>\n",
       "      <td>2</td>\n",
       "      <td>2</td>\n",
       "      <td>1.0</td>\n",
       "      <td>15</td>\n",
       "      <td>89.50</td>\n",
       "      <td>2012</td>\n",
       "    </tr>\n",
       "    <tr>\n",
       "      <th>4</th>\n",
       "      <td>University of Cambridge</td>\n",
       "      <td>UK</td>\n",
       "      <td>1</td>\n",
       "      <td>10</td>\n",
       "      <td>24</td>\n",
       "      <td>4</td>\n",
       "      <td>16</td>\n",
       "      <td>16</td>\n",
       "      <td>11</td>\n",
       "      <td>1.0</td>\n",
       "      <td>50</td>\n",
       "      <td>86.17</td>\n",
       "      <td>2012</td>\n",
       "    </tr>\n",
       "    <tr>\n",
       "      <th>5</th>\n",
       "      <td>California Institute of Technology</td>\n",
       "      <td>USA</td>\n",
       "      <td>4</td>\n",
       "      <td>2</td>\n",
       "      <td>29</td>\n",
       "      <td>7</td>\n",
       "      <td>37</td>\n",
       "      <td>22</td>\n",
       "      <td>22</td>\n",
       "      <td>1.0</td>\n",
       "      <td>18</td>\n",
       "      <td>85.21</td>\n",
       "      <td>2012</td>\n",
       "    </tr>\n",
       "    <tr>\n",
       "      <th>6</th>\n",
       "      <td>Princeton University</td>\n",
       "      <td>USA</td>\n",
       "      <td>5</td>\n",
       "      <td>8</td>\n",
       "      <td>14</td>\n",
       "      <td>2</td>\n",
       "      <td>53</td>\n",
       "      <td>33</td>\n",
       "      <td>26</td>\n",
       "      <td>1.0</td>\n",
       "      <td>101</td>\n",
       "      <td>82.50</td>\n",
       "      <td>2012</td>\n",
       "    </tr>\n",
       "    <tr>\n",
       "      <th>7</th>\n",
       "      <td>University of Oxford</td>\n",
       "      <td>UK</td>\n",
       "      <td>2</td>\n",
       "      <td>13</td>\n",
       "      <td>28</td>\n",
       "      <td>9</td>\n",
       "      <td>15</td>\n",
       "      <td>13</td>\n",
       "      <td>19</td>\n",
       "      <td>1.0</td>\n",
       "      <td>26</td>\n",
       "      <td>82.34</td>\n",
       "      <td>2012</td>\n",
       "    </tr>\n",
       "    <tr>\n",
       "      <th>8</th>\n",
       "      <td>Yale University</td>\n",
       "      <td>USA</td>\n",
       "      <td>6</td>\n",
       "      <td>14</td>\n",
       "      <td>31</td>\n",
       "      <td>12</td>\n",
       "      <td>14</td>\n",
       "      <td>6</td>\n",
       "      <td>15</td>\n",
       "      <td>1.0</td>\n",
       "      <td>66</td>\n",
       "      <td>79.14</td>\n",
       "      <td>2012</td>\n",
       "    </tr>\n",
       "    <tr>\n",
       "      <th>9</th>\n",
       "      <td>Columbia University</td>\n",
       "      <td>USA</td>\n",
       "      <td>7</td>\n",
       "      <td>23</td>\n",
       "      <td>21</td>\n",
       "      <td>10</td>\n",
       "      <td>13</td>\n",
       "      <td>12</td>\n",
       "      <td>14</td>\n",
       "      <td>1.0</td>\n",
       "      <td>5</td>\n",
       "      <td>78.86</td>\n",
       "      <td>2012</td>\n",
       "    </tr>\n",
       "    <tr>\n",
       "      <th>10</th>\n",
       "      <td>University of California, Berkeley</td>\n",
       "      <td>USA</td>\n",
       "      <td>8</td>\n",
       "      <td>16</td>\n",
       "      <td>52</td>\n",
       "      <td>6</td>\n",
       "      <td>6</td>\n",
       "      <td>5</td>\n",
       "      <td>3</td>\n",
       "      <td>1.0</td>\n",
       "      <td>16</td>\n",
       "      <td>78.55</td>\n",
       "      <td>2012</td>\n",
       "    </tr>\n",
       "    <tr>\n",
       "      <th>11</th>\n",
       "      <td>University of Chicago</td>\n",
       "      <td>USA</td>\n",
       "      <td>9</td>\n",
       "      <td>15</td>\n",
       "      <td>26</td>\n",
       "      <td>8</td>\n",
       "      <td>34</td>\n",
       "      <td>20</td>\n",
       "      <td>28</td>\n",
       "      <td>1.0</td>\n",
       "      <td>101</td>\n",
       "      <td>73.82</td>\n",
       "      <td>2012</td>\n",
       "    </tr>\n",
       "    <tr>\n",
       "      <th>12</th>\n",
       "      <td>Cornell University</td>\n",
       "      <td>USA</td>\n",
       "      <td>10</td>\n",
       "      <td>21</td>\n",
       "      <td>42</td>\n",
       "      <td>14</td>\n",
       "      <td>22</td>\n",
       "      <td>21</td>\n",
       "      <td>16</td>\n",
       "      <td>1.0</td>\n",
       "      <td>10</td>\n",
       "      <td>73.69</td>\n",
       "      <td>2012</td>\n",
       "    </tr>\n",
       "    <tr>\n",
       "      <th>13</th>\n",
       "      <td>University of Pennsylvania</td>\n",
       "      <td>USA</td>\n",
       "      <td>11</td>\n",
       "      <td>31</td>\n",
       "      <td>16</td>\n",
       "      <td>24</td>\n",
       "      <td>9</td>\n",
       "      <td>10</td>\n",
       "      <td>8</td>\n",
       "      <td>1.0</td>\n",
       "      <td>9</td>\n",
       "      <td>73.64</td>\n",
       "      <td>2012</td>\n",
       "    </tr>\n",
       "    <tr>\n",
       "      <th>14</th>\n",
       "      <td>University of Tokyo</td>\n",
       "      <td>Japan</td>\n",
       "      <td>1</td>\n",
       "      <td>32</td>\n",
       "      <td>19</td>\n",
       "      <td>31</td>\n",
       "      <td>8</td>\n",
       "      <td>19</td>\n",
       "      <td>23</td>\n",
       "      <td>1.0</td>\n",
       "      <td>3</td>\n",
       "      <td>69.49</td>\n",
       "      <td>2012</td>\n",
       "    </tr>\n",
       "    <tr>\n",
       "      <th>15</th>\n",
       "      <td>Johns Hopkins University</td>\n",
       "      <td>USA</td>\n",
       "      <td>12</td>\n",
       "      <td>34</td>\n",
       "      <td>77</td>\n",
       "      <td>20</td>\n",
       "      <td>11</td>\n",
       "      <td>9</td>\n",
       "      <td>9</td>\n",
       "      <td>1.0</td>\n",
       "      <td>7</td>\n",
       "      <td>66.94</td>\n",
       "      <td>2012</td>\n",
       "    </tr>\n",
       "    <tr>\n",
       "      <th>16</th>\n",
       "      <td>Swiss Federal Institute of Technology in Zurich</td>\n",
       "      <td>Switzerland</td>\n",
       "      <td>1</td>\n",
       "      <td>26</td>\n",
       "      <td>66</td>\n",
       "      <td>11</td>\n",
       "      <td>40</td>\n",
       "      <td>51</td>\n",
       "      <td>44</td>\n",
       "      <td>1.0</td>\n",
       "      <td>34</td>\n",
       "      <td>66.69</td>\n",
       "      <td>2012</td>\n",
       "    </tr>\n",
       "    <tr>\n",
       "      <th>17</th>\n",
       "      <td>Kyoto University</td>\n",
       "      <td>Japan</td>\n",
       "      <td>2</td>\n",
       "      <td>42</td>\n",
       "      <td>38</td>\n",
       "      <td>19</td>\n",
       "      <td>25</td>\n",
       "      <td>36</td>\n",
       "      <td>43</td>\n",
       "      <td>1.0</td>\n",
       "      <td>23</td>\n",
       "      <td>65.76</td>\n",
       "      <td>2012</td>\n",
       "    </tr>\n",
       "    <tr>\n",
       "      <th>18</th>\n",
       "      <td>Weizmann Institute of Science</td>\n",
       "      <td>Israel</td>\n",
       "      <td>1</td>\n",
       "      <td>4</td>\n",
       "      <td>101</td>\n",
       "      <td>22</td>\n",
       "      <td>101</td>\n",
       "      <td>67</td>\n",
       "      <td>101</td>\n",
       "      <td>1.0</td>\n",
       "      <td>29</td>\n",
       "      <td>65.09</td>\n",
       "      <td>2012</td>\n",
       "    </tr>\n",
       "    <tr>\n",
       "      <th>19</th>\n",
       "      <td>University of California, Los Angeles</td>\n",
       "      <td>USA</td>\n",
       "      <td>13</td>\n",
       "      <td>62</td>\n",
       "      <td>59</td>\n",
       "      <td>23</td>\n",
       "      <td>3</td>\n",
       "      <td>11</td>\n",
       "      <td>6</td>\n",
       "      <td>1.0</td>\n",
       "      <td>13</td>\n",
       "      <td>64.05</td>\n",
       "      <td>2012</td>\n",
       "    </tr>\n",
       "    <tr>\n",
       "      <th>20</th>\n",
       "      <td>University of California, San Diego</td>\n",
       "      <td>USA</td>\n",
       "      <td>14</td>\n",
       "      <td>61</td>\n",
       "      <td>101</td>\n",
       "      <td>15</td>\n",
       "      <td>10</td>\n",
       "      <td>8</td>\n",
       "      <td>10</td>\n",
       "      <td>1.0</td>\n",
       "      <td>22</td>\n",
       "      <td>63.11</td>\n",
       "      <td>2012</td>\n",
       "    </tr>\n",
       "  </tbody>\n",
       "</table>\n",
       "</div>"
      ],
      "text/plain": [
       "                                                institution      country  \\\n",
       "world_rank                                                                 \n",
       "1                                        Harvard University          USA   \n",
       "2                     Massachusetts Institute of Technology          USA   \n",
       "3                                       Stanford University          USA   \n",
       "4                                   University of Cambridge           UK   \n",
       "5                        California Institute of Technology          USA   \n",
       "6                                      Princeton University          USA   \n",
       "7                                      University of Oxford           UK   \n",
       "8                                           Yale University          USA   \n",
       "9                                       Columbia University          USA   \n",
       "10                       University of California, Berkeley          USA   \n",
       "11                                    University of Chicago          USA   \n",
       "12                                       Cornell University          USA   \n",
       "13                               University of Pennsylvania          USA   \n",
       "14                                      University of Tokyo        Japan   \n",
       "15                                 Johns Hopkins University          USA   \n",
       "16          Swiss Federal Institute of Technology in Zurich  Switzerland   \n",
       "17                                         Kyoto University        Japan   \n",
       "18                            Weizmann Institute of Science       Israel   \n",
       "19                    University of California, Los Angeles          USA   \n",
       "20                      University of California, San Diego          USA   \n",
       "\n",
       "            national_rank  quality_of_education  alumni_employment  \\\n",
       "world_rank                                                           \n",
       "1                       1                     7                  9   \n",
       "2                       2                     9                 17   \n",
       "3                       3                    17                 11   \n",
       "4                       1                    10                 24   \n",
       "5                       4                     2                 29   \n",
       "6                       5                     8                 14   \n",
       "7                       2                    13                 28   \n",
       "8                       6                    14                 31   \n",
       "9                       7                    23                 21   \n",
       "10                      8                    16                 52   \n",
       "11                      9                    15                 26   \n",
       "12                     10                    21                 42   \n",
       "13                     11                    31                 16   \n",
       "14                      1                    32                 19   \n",
       "15                     12                    34                 77   \n",
       "16                      1                    26                 66   \n",
       "17                      2                    42                 38   \n",
       "18                      1                     4                101   \n",
       "19                     13                    62                 59   \n",
       "20                     14                    61                101   \n",
       "\n",
       "            quality_of_faculty  publications  influence  citations  \\\n",
       "world_rank                                                           \n",
       "1                            1             1          1          1   \n",
       "2                            3            12          4          4   \n",
       "3                            5             4          2          2   \n",
       "4                            4            16         16         11   \n",
       "5                            7            37         22         22   \n",
       "6                            2            53         33         26   \n",
       "7                            9            15         13         19   \n",
       "8                           12            14          6         15   \n",
       "9                           10            13         12         14   \n",
       "10                           6             6          5          3   \n",
       "11                           8            34         20         28   \n",
       "12                          14            22         21         16   \n",
       "13                          24             9         10          8   \n",
       "14                          31             8         19         23   \n",
       "15                          20            11          9          9   \n",
       "16                          11            40         51         44   \n",
       "17                          19            25         36         43   \n",
       "18                          22           101         67        101   \n",
       "19                          23             3         11          6   \n",
       "20                          15            10          8         10   \n",
       "\n",
       "            broad_impact  patents   score  year  \n",
       "world_rank                                       \n",
       "1                    1.0        5  100.00  2012  \n",
       "2                    1.0        1   91.67  2012  \n",
       "3                    1.0       15   89.50  2012  \n",
       "4                    1.0       50   86.17  2012  \n",
       "5                    1.0       18   85.21  2012  \n",
       "6                    1.0      101   82.50  2012  \n",
       "7                    1.0       26   82.34  2012  \n",
       "8                    1.0       66   79.14  2012  \n",
       "9                    1.0        5   78.86  2012  \n",
       "10                   1.0       16   78.55  2012  \n",
       "11                   1.0      101   73.82  2012  \n",
       "12                   1.0       10   73.69  2012  \n",
       "13                   1.0        9   73.64  2012  \n",
       "14                   1.0        3   69.49  2012  \n",
       "15                   1.0        7   66.94  2012  \n",
       "16                   1.0       34   66.69  2012  \n",
       "17                   1.0       23   65.76  2012  \n",
       "18                   1.0       29   65.09  2012  \n",
       "19                   1.0       13   64.05  2012  \n",
       "20                   1.0       22   63.11  2012  "
      ]
     },
     "execution_count": 22,
     "metadata": {},
     "output_type": "execute_result"
    }
   ],
   "source": [
    "top_20 = data.head(20)\n",
    "top_20"
   ]
  },
  {
   "cell_type": "code",
   "execution_count": 23,
   "id": "30b29304",
   "metadata": {
    "execution": {
     "iopub.execute_input": "2023-07-11T16:00:55.572762Z",
     "iopub.status.busy": "2023-07-11T16:00:55.571759Z",
     "iopub.status.idle": "2023-07-11T16:00:56.985756Z",
     "shell.execute_reply": "2023-07-11T16:00:56.984457Z"
    },
    "papermill": {
     "duration": 1.438665,
     "end_time": "2023-07-11T16:00:56.989067",
     "exception": false,
     "start_time": "2023-07-11T16:00:55.550402",
     "status": "completed"
    },
    "tags": []
   },
   "outputs": [
    {
     "data": {
      "image/png": "[encoded data removed]",
      "text/plain": [
       "<Figure size 1440x1440 with 1 Axes>"
      ]
     },
     "metadata": {},
     "output_type": "display_data"
    }
   ],
   "source": [
    "plt.style.use('Solarize_Light2')\n",
    "plt.figure(figsize=(20,20))\n",
    "plt.title(\"Top 20 Most Top-Ranked Universities in the world\",fontsize=20)\n",
    "sns.barplot(data=top_20,x=\"score\",y=\"institution\",hue=\"country\")    #Note use of barplot where hue reefers to the location of thr desired columns.\n",
    "plt.legend()\n",
    "plt.show()"
   ]
  },
  {
   "cell_type": "markdown",
   "id": "98dbbbd2",
   "metadata": {
    "papermill": {
     "duration": 0.022463,
     "end_time": "2023-07-11T16:00:57.034563",
     "exception": false,
     "start_time": "2023-07-11T16:00:57.012100",
     "status": "completed"
    },
    "tags": []
   },
   "source": [
    "**Top 20 most ranked top universities by their country?**"
   ]
  },
  {
   "cell_type": "code",
   "execution_count": 24,
   "id": "209c808b",
   "metadata": {
    "execution": {
     "iopub.execute_input": "2023-07-11T16:00:57.080292Z",
     "iopub.status.busy": "2023-07-11T16:00:57.079805Z",
     "iopub.status.idle": "2023-07-11T16:00:57.326680Z",
     "shell.execute_reply": "2023-07-11T16:00:57.325352Z"
    },
    "papermill": {
     "duration": 0.273421,
     "end_time": "2023-07-11T16:00:57.329557",
     "exception": false,
     "start_time": "2023-07-11T16:00:57.056136",
     "status": "completed"
    },
    "tags": []
   },
   "outputs": [
    {
     "data": {
      "image/png": "[encoded data removed]",
      "text/plain": [
       "<Figure size 720x360 with 1 Axes>"
      ]
     },
     "metadata": {},
     "output_type": "display_data"
    }
   ],
   "source": [
    "plt.style.use('seaborn-pastel')\n",
    "plt.figure(figsize=(10,5))\n",
    "plt.title(\"Top 20 Most Top-Ranked Universities in the world by their countries\")\n",
    "plt.xlabel(\"Number of Universities\")\n",
    "plt.ylabel(\"country\")\n",
    "top_20[\"country\"].value_counts().plot(kind=\"barh\",color=\"g\")     \n",
    "plt.show()"
   ]
  },
  {
   "cell_type": "markdown",
   "id": "74a7a6dd",
   "metadata": {
    "papermill": {
     "duration": 0.021619,
     "end_time": "2023-07-11T16:00:57.373684",
     "exception": false,
     "start_time": "2023-07-11T16:00:57.352065",
     "status": "completed"
    },
    "tags": []
   },
   "source": [
    "**SUMMARY**"
   ]
  },
  {
   "cell_type": "markdown",
   "id": "6ab96569",
   "metadata": {
    "papermill": {
     "duration": 0.021052,
     "end_time": "2023-07-11T16:00:57.416540",
     "exception": false,
     "start_time": "2023-07-11T16:00:57.395488",
     "status": "completed"
    },
    "tags": []
   },
   "source": [
    "**To conclude a university is an institution of higher education, usually comprising a college of liberal arts and sciences and graduate and professional schools and having the authority to confer degrees in various fields of study. As it is designed to offer education to individuals who desire to increase their knowledge in specific fields of study. These organizations have had a variety of functions over the years. For instance, they were initially created to teach the gospel, self-fulfillment and praise the lord**"
   ]
  }
 ],
 "metadata": {
  "kernelspec": {
   "display_name": "Python 3",
   "language": "python",
   "name": "python3"
  },
  "language_info": {
   "codemirror_mode": {
    "name": "ipython",
    "version": 3
   },
   "file_extension": ".py",
   "mimetype": "text/x-python",
   "name": "python",
   "nbconvert_exporter": "python",
   "pygments_lexer": "ipython3",
   "version": "3.7.12"
  },
  "papermill": {
   "default_parameters": {},
   "duration": 19.969901,
   "end_time": "2023-07-11T16:00:58.260394",
   "environment_variables": {},
   "exception": null,
   "input_path": "__notebook__.ipynb",
   "output_path": "__notebook__.ipynb",
   "parameters": {},
   "start_time": "2023-07-11T16:00:38.290493",
   "version": "2.3.4"
  }
 },
 "nbformat": 4,
 "nbformat_minor": 5
}
